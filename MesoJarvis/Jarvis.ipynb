{
 "cells": [
  {
   "cell_type": "code",
   "execution_count": 2,
   "metadata": {},
   "outputs": [
    {
     "name": "stdout",
     "output_type": "stream",
     "text": [
      "Jarvis : Who is this ?\n",
      "Me :tony\n",
      "Jarvis : Good morning Mr Stark\n",
      "Jarvis : How can i help you Sir ?\n",
      "Tony : new\n",
      "Jarvis : Your new suit is ready to rock the Stark Fair sir\n",
      "Tony : thakns\n"
     ]
    }
   ],
   "source": [
    "print('Jarvis : Who is this ?')\n",
    "a= str(input('Me :'))\n",
    "if a in ['Tony','stark','tony']:\n",
    "    print('Jarvis : Good morning Mr Stark')\n",
    "    print('Jarvis : How can i help you Sir ?')\n",
    "    b=str(input('Tony : '))\n",
    "    if b in ['suit','new']:\n",
    "        print('Jarvis : Your new suit is ready to rock the Stark Fair sir')\n",
    "        c=str(input('Tony : '))\n",
    "        if c in ['Thanks','thank','jarvis','thanks']:\n",
    "            print('Jarvis : Your Welcome Mr Stark')\n",
    "else:\n",
    "    print('Jarvis :Sorry,i am not able to help you. Please wait for Mrs Potts')\n",
    "\n",
    "\n"
   ]
  },
  {
   "cell_type": "code",
   "execution_count": 1,
   "metadata": {},
   "outputs": [
    {
     "name": "stdout",
     "output_type": "stream",
     "text": [
      "Jarvis : Who is this ?\n",
      "Me :tony\n",
      "Jarvis : Good morning Mr Stark\n",
      "Jarvis : How can i help you Sir ?\n",
      "Tony : new\n",
      "Jarvis : Your new suit is ready to rock the Stark Fair sir\n",
      "Tony : thanks\n",
      "Jarvis : Your Welcome Mr Stark\n"
     ]
    }
   ],
   "source": [
    "print('Jarvis : Who is this ?')\n",
    "a= str(input('Me :'))\n",
    "if a in ['Tony','stark','tony']:\n",
    "    print('Jarvis : Good morning Mr Stark')\n",
    "    print('Jarvis : How can i help you Sir ?')\n",
    "    b=str(input('Tony : '))\n",
    "    if b in ['suit','new']:\n",
    "        print('Jarvis : Your new suit is ready to rock the Stark Fair sir')\n",
    "        c=str(input('Tony : '))\n",
    "        if c in ['Thanks','thank','jarvis','thanks']:\n",
    "            print('Jarvis : Your Welcome Mr Stark')\n",
    "else:\n",
    "    print('Jarvis :Sorry,i am not able to help you. Please wait for Mrs Potts')\n",
    "\n",
    "\n",
    "\n"
   ]
  },
  {
   "cell_type": "code",
   "execution_count": null,
   "metadata": {},
   "outputs": [],
   "source": []
  },
  {
   "cell_type": "code",
   "execution_count": null,
   "metadata": {},
   "outputs": [],
   "source": []
  }
 ],
 "metadata": {
  "kernelspec": {
   "display_name": "Python 3",
   "language": "python",
   "name": "python3"
  },
  "language_info": {
   "codemirror_mode": {
    "name": "ipython",
    "version": 3
   },
   "file_extension": ".py",
   "mimetype": "text/x-python",
   "name": "python",
   "nbconvert_exporter": "python",
   "pygments_lexer": "ipython3",
   "version": "3.6.4"
  }
 },
 "nbformat": 4,
 "nbformat_minor": 2
}
